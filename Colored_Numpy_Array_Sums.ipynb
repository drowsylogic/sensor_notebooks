{
 "cells": [
  {
   "cell_type": "code",
   "execution_count": 1,
   "metadata": {},
   "outputs": [],
   "source": [
    "import numpy as np"
   ]
  },
  {
   "cell_type": "code",
   "execution_count": 2,
   "metadata": {},
   "outputs": [],
   "source": [
    "x =  np.array([[[ 0,  1,  2],\n",
    "                [ 3,  4,  5],\n",
    "                [ 6,  7,  8]],\n",
    "               [[ 9, 10, 11],\n",
    "                [12, 13, 14],\n",
    "                [15, 16, 17]],\n",
    "               [[18, 19, 20],\n",
    "                [21, 22, 23],\n",
    "                [24, 25, 26]]])"
   ]
  },
  {
   "cell_type": "markdown",
   "metadata": {},
   "source": [
    "# Axis 0 Input\n",
    "<b>\n",
    "\n",
    "<font color='#01befe'>0</font>,<font color='#ff7d00'>1</font>,<font color='#adff02'>2</font>  \n",
    "<font color='#8f00ff'>3</font>,<font color='#ff006d'>4</font>,<font color='#ffdd00'>5</font>  \n",
    "<font color='black'>6</font>,<font color='brown'>7</font>,<font color='grey'>8</font>  \n",
    "\n",
    "<font color='#01befe'>9</font>,<font color='#ff7d00'>10</font>,<font color='#adff02'>11</font>  \n",
    "<font color='#8f00ff'>12</font>,<font color='#ff006d'>13</font>,<font color='#ffdd00'>14</font>  \n",
    "<font color='black'>15</font>,<font color='brown'>16</font>,<font color='grey'>17</font>  \n",
    "\n",
    "<font color='#01befe'>18</font>,<font color='#ff7d00'>19</font>,<font color='#adff02'>20</font>  \n",
    "<font color='#8f00ff'>21</font>,<font color='#ff006d'>22</font>,<font color='#ffdd00'>23</font>  \n",
    "<font color='black'>24</font>,<font color='brown'>25</font>,<font color='grey'>26</font>  \n",
    "\n",
    "</b>\n",
    "\n",
    "## Result\n",
    "<b>\n",
    "<font color='#01befe'>27</font>,<font color='#ff7d00'>30</font>,<font color='#adff02'>33</font>  \n",
    "    \n",
    "<font color='#8f00ff'>36</font>,<font color='#ff006d'>39</font>,<font color='#ffdd00'>42</font>  \n",
    "    \n",
    "<font color='black'>45</font>,<font color='brown'>48</font>,<font color='grey'>51</font>  \n",
    "</b>"
   ]
  },
  {
   "cell_type": "code",
   "execution_count": 3,
   "metadata": {},
   "outputs": [
    {
     "data": {
      "text/plain": [
       "array([[27, 30, 33],\n",
       "       [36, 39, 42],\n",
       "       [45, 48, 51]])"
      ]
     },
     "execution_count": 3,
     "metadata": {},
     "output_type": "execute_result"
    }
   ],
   "source": [
    "x.sum(axis=0)"
   ]
  },
  {
   "cell_type": "markdown",
   "metadata": {},
   "source": [
    "# Axis 1 Input\n",
    "<b>\n",
    "\n",
    "<font color='#01befe'>0</font>,<font color='#ff7d00'>1</font>,<font color='#adff02'>2</font>  \n",
    "<font color='#01befe'>3</font>,<font color='#ff7d00'>4</font>,<font color='#adff02'>5</font>  \n",
    "<font color='#01befe'>6</font>,<font color='#ff7d00'>7</font>,<font color='#adff02'>8</font>  \n",
    "\n",
    "<font color='#8f00ff'>9</font>,<font color='#ff006d'>10</font>,<font color='#ffdd00'>11</font>  \n",
    "<font color='#8f00ff'>12</font>,<font color='#ff006d'>13</font>,<font color='#ffdd00'>14</font>  \n",
    "<font color='#8f00ff'>15</font>,<font color='#ff006d'>16</font>,<font color='#ffdd00'>17</font>  \n",
    "\n",
    "<font color='black'>18</font>,<font color='brown'>19</font>,<font color='grey'>20</font>  \n",
    "<font color='black'>21</font>,<font color='brown'>22</font>,<font color='grey'>23</font>  \n",
    "<font color='black'>24</font>,<font color='brown'>25</font>,<font color='grey'>26</font>  \n",
    "\n",
    "</b>\n",
    "\n",
    "## Result\n",
    "<b>\n",
    "<font color='#01befe'>9</font>,<font color='#ff7d00'>12</font>,<font color='#adff02'>15</font>  \n",
    "    \n",
    "<font color='#8f00ff'>36</font>,<font color='#ff006d'>39</font>,<font color='#ffdd00'>42</font>  \n",
    "    \n",
    "<font color='black'>63</font>,<font color='brown'>66</font>,<font color='grey'>69</font>  \n",
    "</b>"
   ]
  },
  {
   "cell_type": "code",
   "execution_count": 4,
   "metadata": {},
   "outputs": [
    {
     "data": {
      "text/plain": [
       "array([[ 9, 12, 15],\n",
       "       [36, 39, 42],\n",
       "       [63, 66, 69]])"
      ]
     },
     "execution_count": 4,
     "metadata": {},
     "output_type": "execute_result"
    }
   ],
   "source": [
    "x.sum(axis=1)"
   ]
  },
  {
   "cell_type": "markdown",
   "metadata": {},
   "source": [
    "# Axis 2 Input\n",
    "<b>\n",
    "\n",
    "<font color='#01befe'>0</font>,<font color='#01befe'>1</font>,<font color='#01befe'>2</font>  \n",
    "<font color='#ff7d00'>3</font>,<font color='#ff7d00'>4</font>,<font color='#ff7d00'>5</font>  \n",
    "<font color='#adff02'>6</font>,<font color='#adff02'>7</font>,<font color='#adff02'>8</font> \n",
    "\n",
    "<font color='#8f00ff'>9</font>,<font color='#8f00ff'>10</font>,<font color='#8f00ff'>11</font>  \n",
    "<font color='#ff006d'>12</font>,<font color='#ff006d'>13</font>,<font color='#ff006d'>14</font>  \n",
    "<font color='#ffdd00'>15</font>,<font color='#ffdd00'>16</font>,<font color='#ffdd00'>17</font>  \n",
    "\n",
    "<font color='black'>18</font>,<font color='black'>19</font>, <font color='black'>20</font>  \n",
    "<font color='brown'>21</font>,<font color='brown'>22</font>,<font color='brown'>23</font>  \n",
    "<font color='grey'>24</font>,<font color='grey'>26</font>,<font color='grey'>26</font>  \n",
    "\n",
    "</b>\n",
    "\n",
    "## Result\n",
    "<b>\n",
    "<font color='#01befe'>3</font>,<font color='#ff7d00'>12</font>,<font color='#adff02'>21</font>  \n",
    "    \n",
    "<font color='#8f00ff'>30</font>,<font color='#ff006d'>39</font>,<font color='#ffdd00'>48</font>  \n",
    "    \n",
    "<font color='black'>57</font>,<font color='brown'>66</font>,<font color='grey'>75</font>  \n",
    "</b>"
   ]
  },
  {
   "cell_type": "code",
   "execution_count": 5,
   "metadata": {},
   "outputs": [
    {
     "data": {
      "text/plain": [
       "array([[ 3, 12, 21],\n",
       "       [30, 39, 48],\n",
       "       [57, 66, 75]])"
      ]
     },
     "execution_count": 5,
     "metadata": {},
     "output_type": "execute_result"
    }
   ],
   "source": [
    "x.sum(axis=2)"
   ]
  }
 ],
 "metadata": {
  "kernelspec": {
   "display_name": "Python 3",
   "language": "python",
   "name": "python3"
  },
  "language_info": {
   "codemirror_mode": {
    "name": "ipython",
    "version": 3
   },
   "file_extension": ".py",
   "mimetype": "text/x-python",
   "name": "python",
   "nbconvert_exporter": "python",
   "pygments_lexer": "ipython3",
   "version": "3.7.6"
  }
 },
 "nbformat": 4,
 "nbformat_minor": 4
}

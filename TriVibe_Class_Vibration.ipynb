{
 "cells": [
  {
   "cell_type": "markdown",
   "metadata": {},
   "source": [
    "<a id='top'></a>\n",
    "---"
   ]
  },
  {
   "cell_type": "markdown",
   "metadata": {},
   "source": [
    "# Tri-Vibe Sensor Integration Notebook\n",
    "* Language: Python 3.7  \n",
    "* Required [Libraries](#libraries)\n",
    "* Author: Leo Bach 12/18/2019\n",
    "* Version: 5.01  \n",
    "    (Object Oriented Design Implemented)  \n",
    "    (CSV Storage Added)  \n",
    "    (Charting Added)  \n",
    "    (HTML Storage Added)  \n",
    "* Email: leo@machinesaver.net  \n",
    "* Phone: +1(832)581-9908\n",
    "\n",
    "### Table of Contents:\n",
    "[Part 1: Required Libraries for TRIVIBE CLASS](#libraries)  \n",
    "[Part 2: TRIVIBE CLASS](#trivibeclass)  \n",
    "[Part 3: Required Libraries for NOTEBOOK](#notebooklibraries)  \n",
    "[Part 4: Find Computer's RS485 Port](#checkport)  \n",
    "[Part 5: Available TRIVIBE Methods (Functions)](#methodlist)  \n",
    "[Part 6: Create a Sensor Object from TRIVIBE CLASS](#instantiation)  \n",
    "[Part 7: Available TRIVIBE Attributes (Properties)](#attributelist)  \n",
    "[Part 8: Example Static Attributes - Sensor Info](#staticattributes)  \n",
    "[Part 9: Example Uptime](#exampleuptime)  \n",
    "[Part 10: Example Temperature](#exampletemperature)  \n",
    "[Part 11: Example Vibration](#examplevibration)  \n",
    "[Part 12: Example Easy Snapshot](#easysnapshot)  \n",
    "[Part 13: Example Snapshot Storage (CSV)](#storecsv)  \n",
    "[Part 14: Example Snapshot Chart (Plotly)](#chartcsv)  \n",
    "[Part 15: Example Snapshot Chart Storage (HTML)](#storehtml)  \n",
    "[Part 16: Example Advanced Snapshot](#advancedsnapshot)  "
   ]
  },
  {
   "cell_type": "markdown",
   "metadata": {},
   "source": [
    "<a id='libraries'></a>\n",
    "---"
   ]
  },
  {
   "cell_type": "markdown",
   "metadata": {},
   "source": [
    "# Part 1: Required Libraries for [TRIVIBE CLASS](#trivibeclass)  "
   ]
  },
  {
   "cell_type": "code",
   "execution_count": 1,
   "metadata": {},
   "outputs": [],
   "source": [
    "# import required libraries for TRIVIBE CLASS\n",
    "import minimalmodbus                        # modbus master library which supports Modbus RTU & Modbus ASCII but not Modbus TCP\n",
    "import time                                 # use sleep to wait while sensor processes are happening + used to take timestamp when data is collected\n",
    "from datetime import datetime               # manipulate timestamp to human readable date\n",
    "import numpy as np                          # number manipulation - calculate snapshot reads, create time arrays (twf - x-axis) and frequency bins arrays (spectrum - x-axis)\n",
    "from scipy.fftpack import fft               # fast fourier transform algorithm\n",
    "from pathlib import Path\n",
    "from openpyxl import Workbook\n",
    "import plotly.graph_objects as go           # charting library\n",
    "import xlsxwriter\n",
    "\n",
    "# remove libraries?\n",
    "import os                                   # used to save snapshots to /snapshots directory within Machine Saver's Jupyter notebook\n",
    "import matplotlib.pyplot as plt             # charting library\n",
    "import pandas as pd                         # used to manipulate numbers\n",
    "import os                                   # used to save snapshots to /snapshots directory within Machine Saver's Jupyter notebook\n",
    "import math                                 # used to manipulate numbers"
   ]
  },
  {
   "cell_type": "markdown",
   "metadata": {},
   "source": [
    "<a id='trivibeclass'></a>\n",
    "---"
   ]
  },
  {
   "cell_type": "markdown",
   "metadata": {},
   "source": [
    "# Part 2: TRIVIBE CLASS"
   ]
  },
  {
   "cell_type": "code",
   "execution_count": 2,
   "metadata": {},
   "outputs": [],
   "source": [
    "class TRIVIBE:\n",
    "    manufacturer = 'Machine Saver Inc.'\n",
    "    \n",
    "    def __init__(self, slaveAddress, serialPort):\n",
    "        self.serialPort = serialPort\n",
    "        self.modbus = minimalmodbus.Instrument(self.serialPort, slaveAddress)\n",
    "        self._setSerialPortSettings()\n",
    "        \n",
    "        self.info = {\n",
    "            \"serial\": self._getSerialNumber(),\n",
    "            \"revision\": self._getRevision(),\n",
    "            \"board_type\": self._getBoardType(),\n",
    "            \"internal_accelerometer_1\":{},\n",
    "            \"internal_accelerometer_2\":{}\n",
    "        }\n",
    "        self._getSensitivity()\n",
    "        \n",
    "        self.uptime ={}\n",
    "        \n",
    "        self.vibration = {}\n",
    "\n",
    "        self.temperature = {}\n",
    "\n",
    "        # TODO: add alarms\n",
    "        self.alarms = {}\n",
    "#         \"channel_1\":{},\n",
    "#         \"channel_2\":{},\n",
    "#         \"channel_3\":{},\n",
    "#         \"channel_4\":{},\n",
    "        \n",
    "        # TODO: add snapshot\n",
    "        self.snapshot = {}\n",
    "#         \"engine_status\":\"idle\",\n",
    "#         \"samples_per_axis\":0,\n",
    "#         \"capture_time\":0,\n",
    "#         \"triaxial_RAW\":[],\n",
    "#         \"axis_1_RAW\":[],\n",
    "#         \"axis_2_RAW\":[],\n",
    "#         \"axis_3_RAW\":[],\n",
    "#         \"timewaveform_time_ms\":[],\n",
    "#         \"axis_1_acceleration\":[],\n",
    "#         \"axis_2_acceleration\":[],\n",
    "#         \"axis_3_acceleration\":[],\n",
    "#         \"spectrum_frequency_hz\":[],\n",
    "#         \"axis_1_spectrum\":[],\n",
    "#         \"axis_2_spectrum\":[],\n",
    "#         \"axis_3_spectrum\":[]\n",
    "        \n",
    "    def _setSerialPortSettings(self):\n",
    "        '''Update serial communication settings to talk to Tri-Vibe'''\n",
    "        self.modbus.serial.baudrate = 115200           # Baudrate fixed 115200\n",
    "        self.modbus.serial.bytesize = 8                # Bytesize fixed 8\n",
    "        self.modbus.serial.parity   = \"N\"              # Parity fixed None \n",
    "        self.modbus.serial.stopbits = 1                # Stopbits fixed 1\n",
    "        self.modbus.serial.timeout  = 0.10             # Seconds\n",
    "        self.modbus.close_port_after_each_call = False  # Helps communication for Windows Devices (can be set to False on many Linux devices)\n",
    "        self.modbus.mode = minimalmodbus.MODE_RTU      # modbus mode fixed RTU Mode\n",
    "        self.modbus.clear_buffers_before_each_transaction = True\n",
    "        time.sleep(0.1)\n",
    "    \n",
    "    def _getRevision(self):\n",
    "        '''Reads Modbus Register 0. Scales return value to Revision. Updates Trivibe Object Property info[\"revision\"].'''\n",
    "        sensor_revision = self.modbus.read_register(0, functioncode=3)  # Revision at time of writing 112\n",
    "        return(sensor_revision-768)                                  # Remove the 768 from the output of register 0 to get the sensor's revision\n",
    "\n",
    "\n",
    "    def _getSerialNumber(self):\n",
    "        '''Reads Modbus Register 26. Updates Trivibe Object Property info[\"serial\"].'''\n",
    "        serial = self.modbus.read_long(26, functioncode=3)\n",
    "        return serial\n",
    "        \n",
    "    def _modbus_map_board_type(self, x): # checks the board type\n",
    "        return {\n",
    "            0:['Unset','Unset'],\n",
    "            1:['2g','2g'],\n",
    "            2:['2g','4g'],\n",
    "            3:['4g','2g'],\n",
    "            4:['2g','25g'],\n",
    "            5:['4g','25g'],\n",
    "            6:['25g','2g'],\n",
    "            7:['25g','4g'],\n",
    "            8:['4g','10g'],\n",
    "            9:['10g','4g'],\n",
    "            10:['100g','10g'],\n",
    "        }.get(x, 'error')    # 'error' is default if x not found\n",
    "\n",
    "\n",
    "    def _getBoardType(self):\n",
    "        '''Reads Modbus Register 366. Updates Trivibe Object Property info[board_type].'''\n",
    "        return(self._modbus_map_board_type(self.modbus.read_register(366, functioncode=3)))\n",
    "    \n",
    "    def _frequency_map(self, x): # checks the board type\n",
    "        return {\n",
    "            '2g':1000,\n",
    "            '4g':1000,\n",
    "            '10g':5000,\n",
    "            '20g':5000,\n",
    "            '25g':5000,\n",
    "            '100g':5000,\n",
    "        }.get(x, 'error')    # 'error' is default if x not found\n",
    "\n",
    "    def _amplitude_map(self, x): # checks the board type\n",
    "        return {\n",
    "            '2g':2,\n",
    "            '4g':4,\n",
    "            '10g':10,\n",
    "            '20g':20,\n",
    "            '25g':25,\n",
    "            '100g':100,\n",
    "        }.get(x, 'error')    # 'error' is default if x not found\n",
    "\n",
    "    def _getSensitivity(self):\n",
    "        '''Reads Modbus Registers 299-310 . Updates Trivibe Object Property\n",
    "        info.internal_accelerometer_1[\"max_amplitude_gPK\"]\n",
    "                                    ,[\"max_frequency_hz\"]\n",
    "                                    ,[\"axis_1_sensitivity\"]\n",
    "                                    ,[\"axis_2_sensitivity\"]\n",
    "                                    ,[\"axis_3_sensitivity\"]\n",
    "        info.internal_accelerometer_2[\"max_amplitude_gPK\"]\n",
    "                                    ,[\"max_frequency_hz\"]\n",
    "                                    ,[\"axis_1_sensitivity\"]\n",
    "                                    ,[\"axis_2_sensitivity\"]\n",
    "                                    ,[\"axis_3_sensitivity\"]'''\n",
    "        s1_a1_sensitivity = self.modbus.read_float(299, functioncode=3, number_of_registers=2, byteorder=0)\n",
    "        s1_a2_sensitivity = self.modbus.read_float(301, functioncode=3, number_of_registers=2, byteorder=0)\n",
    "        s1_a3_sensitivity = self.modbus.read_float(303, functioncode=3, number_of_registers=2, byteorder=0)\n",
    "        s2_a1_sensitivity = self.modbus.read_float(305, functioncode=3, number_of_registers=2, byteorder=0)\n",
    "        s2_a2_sensitivity = self.modbus.read_float(307, functioncode=3, number_of_registers=2, byteorder=0)\n",
    "        s2_a3_sensitivity = self.modbus.read_float(309, functioncode=3, number_of_registers=2, byteorder=0)\n",
    "        self.info.setdefault(\"internal_accelerometer_1\",{})\n",
    "        self.info.get(\"internal_accelerometer_1\").setdefault(\"max_amplitude_gPK\", self._amplitude_map(self.info.get(\"board_type\")[0]))\n",
    "        self.info.get(\"internal_accelerometer_1\").setdefault(\"max_frequency_hz\", self._frequency_map(self.info.get(\"board_type\")[0]))\n",
    "        self.info.get(\"internal_accelerometer_1\").setdefault(\"axis_1_sensitivity\",s1_a1_sensitivity)\n",
    "        self.info.get(\"internal_accelerometer_1\").setdefault(\"axis_2_sensitivity\",s1_a2_sensitivity)\n",
    "        self.info.get(\"internal_accelerometer_1\").setdefault(\"axis_3_sensitivity\",s1_a3_sensitivity)\n",
    "        self.info.setdefault(\"internal_accelerometer_2\",{})\n",
    "        self.info.get(\"internal_accelerometer_2\").setdefault(\"max_amplitude_gPK\", self._amplitude_map(self.info.get(\"board_type\")[1]))\n",
    "        self.info.get(\"internal_accelerometer_2\").setdefault(\"max_frequency_hz\", self._frequency_map(self.info.get(\"board_type\")[1]))\n",
    "        self.info.get(\"internal_accelerometer_2\").setdefault(\"axis_1_sensitivity\",s2_a1_sensitivity)\n",
    "        self.info.get(\"internal_accelerometer_2\").setdefault(\"axis_2_sensitivity\",s2_a2_sensitivity)\n",
    "        self.info.get(\"internal_accelerometer_2\").setdefault(\"axis_3_sensitivity\",s2_a3_sensitivity)\n",
    "        time.sleep(0.1)\n",
    "\n",
    "### GENERAL CONFIGURATION METHODS\n",
    "    def reboot(self):\n",
    "        self.modbus.write_register(1, 1)                             # Reboot Sensor\n",
    "        time.sleep(6)\n",
    "\n",
    "    def changeSlaveAddress(self, newSlaveAddress):\n",
    "        UNLOCK = 45555\n",
    "        LOCK = 45556\n",
    "    \n",
    "        if(newSlaveAddress < 2 or newSlaveAddress > 254):\n",
    "            return('Invalid Slave Address: must be an integer >1 and <254')\n",
    "        else:\n",
    "            self.modbus.write_register(1, UNLOCK)                     # Unlock Control Register\n",
    "            self.modbus.write_register(367, newSlaveAddress)         # Change Sensor Slave Address\n",
    "            self.modbus.write_register(1, LOCK)                     # Lock Control Register\n",
    "            self.reboot()\n",
    "            self.modbus = minimalmodbus.Instrument(self.port, newSlaveAddress)    # Update Slave Address to New Address for our Tri-Vibe Object in minimal modbus\n",
    "\n",
    "### OVERALL METHODS\n",
    "    def updateTemperature(self):\n",
    "        '''Reads Modbus Register 31. Scales to Celcius and Fahrenheit. Updates Trivibe Object Properties [temperature_C, temperature_F].'''\n",
    "        temperature = self.modbus.read_register(31, functioncode=3)\n",
    "        self.temperature = {\n",
    "            \"celcius\":(temperature/10),\n",
    "            \"fahrenheit\":((temperature/10*9/5) + 32)\n",
    "        }\n",
    "        try:\n",
    "            self.temperature.update({\n",
    "            \"celcius\":(temperature/10),\n",
    "            \"fahrenheit\":((temperature/10*9/5) + 32)\n",
    "        })\n",
    "        except KeyError:\n",
    "            self.temperature.setdefault({\n",
    "            \"celcius\":(temperature/10),\n",
    "            \"fahrenheit\":((temperature/10*9/5) + 32)\n",
    "        })\n",
    "        time.sleep(0.1)\n",
    "        \n",
    "    def updateUptime(self):\n",
    "        '''Returns an Array with the [minutes,hours,days] a sensor has been running. If powered off or rebooted these values reset.'''\n",
    "        sensor_uptime = self.modbus.read_registers(5, 3, functioncode=3)  # register_number, number_of_registers, function_code\n",
    "        try:\n",
    "            self.uptime.update({\n",
    "            \"minutes\":sensor_uptime[0],\n",
    "            \"hours\":sensor_uptime[1],\n",
    "            \"days\":sensor_uptime[2]\n",
    "        })\n",
    "        except KeyError:\n",
    "            self.uptime.setdefault({\n",
    "            \"minutes\":sensor_uptime[0],\n",
    "            \"hours\":sensor_uptime[1],\n",
    "            \"days\":sensor_uptime[2]\n",
    "        })\n",
    "        time.sleep(0.1)\n",
    "\n",
    "    def updateVibration(self):\n",
    "        '''returns an array of overall vibration values:\n",
    "        [\n",
    "        axis_1_hybrid_accel, axis_2_hybrid_accel, axis_3_hybrid_accel,\n",
    "        axis_1_hybrid_velocity, axis_2_hybrid_velocity, axis_3_hybrid_velocity,\n",
    "        accelerometer_1_axis_1_accel, accelerometer_1_axis_2_accel, accelerometer_1_axis_3_accel,\n",
    "        accelerometer_1_axis_1_velocity, accelerometer_1_axis_2_velocity, accelerometer_1_axis_3_velocity,\n",
    "        accelerometer_2_axis_1_accel, accelerometer_2_axis_1_accel, accelerometer_3_axis_1_accel,\n",
    "        accelerometer_2_axis_1_velocity, accelerometer_2_axis_2_velocity, accelerometer_2_axis_3_velocity\n",
    "        ]'''\n",
    "        hybrid_acceleration_a1 = self.modbus.read_float(172, functioncode=3, number_of_registers=2)\n",
    "        hybrid_acceleration_a2 = self.modbus.read_float(174, functioncode=3, number_of_registers=2)\n",
    "        hybrid_acceleration_a3 = self.modbus.read_float(176, functioncode=3, number_of_registers=2)\n",
    "        hybrid_velocity_a1 = self.modbus.read_float(178, functioncode=3, number_of_registers=2)\n",
    "        hybrid_velocity_a2 = self.modbus.read_float(180, functioncode=3, number_of_registers=2)\n",
    "        hybrid_velocity_a3 = self.modbus.read_float(182, functioncode=3, number_of_registers=2)\n",
    "#             accel_1_acceleration_a1 = self.modbus.read_float(190, functioncode=3, number_of_registers=2)\n",
    "#             accel_1_acceleration_a2 = self.modbus.read_float(192, functioncode=3, number_of_registers=2)\n",
    "#             accel_1_acceleration_a3 = self.modbus.read_float(194, functioncode=3, number_of_registers=2)\n",
    "#             accel_1_velocity_a1 = self.modbus.read_float(196, functioncode=3, number_of_registers=2)\n",
    "#             accel_1_velocity_a2 = self.modbus.read_float(198, functioncode=3, number_of_registers=2)\n",
    "#             accel_1_velocity_a3 = self.modbus.read_float(200, functioncode=3, number_of_registers=2)\n",
    "#             accel_2_acceleration_a1 = self.modbus.read_float(208, functioncode=3, number_of_registers=2)\n",
    "#             accel_2_acceleration_a2 = self.modbus.read_float(210, functioncode=3, number_of_registers=2)\n",
    "#             accel_2_acceleration_a3 = self.modbus.read_float(212, functioncode=3, number_of_registers=2)\n",
    "#             accel_2_velocity_a1 = self.modbus.read_float(214, functioncode=3, number_of_registers=2)\n",
    "#             accel_2_velocity_a2 = self.modbus.read_float(216, functioncode=3, number_of_registers=2)\n",
    "#             accel_2_velocity_a3 = self.modbus.read_float(218, functioncode=3, number_of_registers=2)\n",
    "        try:\n",
    "            self.vibration.update({\"axis_1_acceleration_g_RMS\":hybrid_acceleration_a1,\n",
    "                                    \"axis_2_acceleration_g_RMS\":hybrid_acceleration_a2,\n",
    "                                    \"axis_3_acceleration_g_RMS\":hybrid_acceleration_a3,\n",
    "                                    \"axis_1_velocity_ips_RMS\":hybrid_velocity_a1,\n",
    "                                    \"axis_2_velocity_ips_RMS\":hybrid_velocity_a2,\n",
    "                                    \"axis_3_velocity_ips_RMS\":hybrid_velocity_a3})\n",
    "        except KeyError:\n",
    "            self.vibration.setdefault({\"axis_1_acceleration_g_RMS\":hybrid_acceleration_a1,\n",
    "                                    \"axis_2_acceleration_g_RMS\":hybrid_acceleration_a2,\n",
    "                                    \"axis_3_acceleration_g_RMS\":hybrid_acceleration_a3,\n",
    "                                    \"axis_1_velocity_ips_RMS\":hybrid_velocity_a1,\n",
    "                                    \"axis_2_velocity_ips_RMS\":hybrid_velocity_a2,\n",
    "                                    \"axis_3_velocity_ips_RMS\":hybrid_velocity_a3})\n",
    "        time.sleep(0.1)\n",
    "\n",
    "\n",
    "### ALARM METHODS\n",
    "\n",
    "### ALARM CONFIGURATION METHODS\n",
    "#         class ALARM:\n",
    "#             '''There are 4 alarm channels that can be set in the TRIVIBE sensor. \n",
    "#                Typical Setup:\n",
    "#                channel_1 = axis_1 acceleration or velocity\n",
    "#                channel_2 = axis_2 acceleration or velocity\n",
    "#                channel_3 = axis_3 acceleration or velocity\n",
    "#                channel_4 = temperature'''\n",
    "            \n",
    "#             def __init__(self, channel):\n",
    "#                 self.channel = channel\n",
    "#                 self.axis = axis\n",
    "#                 self.almtype = almtype\n",
    "#                 self.lo = None\n",
    "#                 self.hi = None\n",
    "#                 self.hihi = None\n",
    "#                 self.status = None\n",
    "#                 self.hysteresis = None\n",
    "#                 self.startAddress = self.getStartAddress()\n",
    "#                 self.readSettings()\n",
    "            \n",
    "#             def getStartAddress(self):\n",
    "#                 return {\n",
    "#                         1:312,\n",
    "#                         2:322,\n",
    "#                         3:332,\n",
    "#                         4:342,\n",
    "#                 }.get(self.channel, 'error')\n",
    "                \n",
    "                \n",
    "#             def readSettings(self):\n",
    "#                 def type_check(x): # checks the type of alarm channel configuration\n",
    "#                     return {\n",
    "#                         0:'Unset',\n",
    "#                         1:'Velocity',\n",
    "#                         2:'Acceleration',\n",
    "#                         3:'Displacement',\n",
    "#                         4:'Temperature',\n",
    "#                         5:'Impact Alert',\n",
    "#                         6:'Danger Alert',\n",
    "#                         7:'Detonation',\n",
    "#                     }.get(x, 'error')    # 'error' is default if x not found\n",
    "\n",
    "#                 def axis_check(x): # checks the axis of alarm channel configuration\n",
    "#                     return{\n",
    "#                         0:'Unset',\n",
    "#                         1:'Axis 1',\n",
    "#                         2:'Axis 2',\n",
    "#                         3:'Axis 3',\n",
    "#                         4:'Temperature',\n",
    "#                         5:'Not Used',\n",
    "#                         6:'Not Used',\n",
    "#                         7:'Detonation Axis 1',\n",
    "#                         8:'Detonation Axis 2',\n",
    "#                         9:'Detonation Axis 3',\n",
    "#                         10:'Impact Threshold Axis 1',\n",
    "#                         11:'Impact Threshold Axis 2',\n",
    "#                         12:'Impact Threshold Axis 3',\n",
    "#                         13:'Impact Count Axis 1',\n",
    "#                         14:'Impact Count Axis 2',\n",
    "#                         15:'Impact Count Axis 3',\n",
    "#                     }.get(x, 'error')\n",
    "#                 try:\n",
    "#                 alarm_axis = self.read_registers(312, 1, functioncode=3)\n",
    "            \n",
    "#             def getStatus(self):\n",
    "#                 pass\n",
    "            \n",
    "#             def setLo(self):\n",
    "#                 pass\n",
    "            \n",
    "#             def setHi(self):\n",
    "#                 pass\n",
    "            \n",
    "#             def setHihi(self):\n",
    "#                 pass\n",
    "\n",
    "#             def getHighest(self):\n",
    "#                 pass\n",
    "            \n",
    "#             def setTripDelay(self):\n",
    "#                 pass\n",
    "            \n",
    "            \n",
    "\n",
    "\n",
    "#             try:\n",
    "#                 # channel 1 settings\n",
    "#                 alarm_channel_1_axis = trivibe.read_registers(312, 1, functioncode=3)\n",
    "#                 print(\"Alarm Channel 1 Axis: \"+axis_check(alarm_channel_1_axis[0]))\n",
    "#                 alarm_channel_1_type = trivibe.read_registers(313, 1, functioncode=3)\n",
    "#                 print(\"Alarm Channel 1 Type: \"+type_check(alarm_channel_1_type[0]))\n",
    "#                 alarm_channel_1_low_limit = trivibe.read_float(314, functioncode=3, number_of_registers=2, byteorder=0)\n",
    "#                 print(\"Low: \"+str(alarm_channel_1_low_limit))\n",
    "#                 alarm_channel_1_high_limit = trivibe.read_float(316, functioncode=3, number_of_registers=2, byteorder=0)\n",
    "#                 print(\"High: \"+str(alarm_channel_1_high_limit))\n",
    "#                 alarm_channel_1_high_high_limit = trivibe.read_float(318, functioncode=3, number_of_registers=2, byteorder=0)\n",
    "#                 print(\"High-High: \"+str(alarm_channel_1_high_high_limit))\n",
    "#                 alarm_channel_1_hysteresis = trivibe.read_float(320, functioncode=3, number_of_registers=2, byteorder=0)\n",
    "#                 print(\"Hysteresis: \"+str(alarm_channel_1_hysteresis))\n",
    "\n",
    "#                 # channel 2 settings\n",
    "#                 alarm_channel_2_axis = trivibe.read_registers(312, 1, functioncode=3)\n",
    "#                 print(\"Alarm Channel 2 Axis: \"+axis_check(alarm_channel_2_axis[0]))\n",
    "#                 alarm_channel_2_type = trivibe.read_registers(313, 1, functioncode=3)\n",
    "#                 print(\"Alarm Channel 2 Type: \"+type_check(alarm_channel_2_type[0]))\n",
    "#                 alarm_channel_2_low_limit = trivibe.read_float(314, functioncode=3, number_of_registers=2, byteorder=0)\n",
    "#                 print(\"Low: \"+str(alarm_channel_2_low_limit))\n",
    "#                 alarm_channel_2_high_limit = trivibe.read_float(316, functioncode=3, number_of_registers=2, byteorder=0)\n",
    "#                 print(\"High: \"+str(alarm_channel_2_high_limit))\n",
    "#                 alarm_channel_2_high_high_limit = trivibe.read_float(318, functioncode=3, number_of_registers=2, byteorder=0)\n",
    "#                 print(\"High-High: \"+str(alarm_channel_2_high_high_limit))\n",
    "#                 alarm_channel_2_hysteresis = trivibe.read_float(320, functioncode=3, number_of_registers=2, byteorder=0)\n",
    "#                 print(\"Hysteresis: \"+str(alarm_channel_2_hysteresis))\n",
    "\n",
    "#                 # channel 3 settings\n",
    "#                 alarm_channel_3_axis = trivibe.read_registers(322, 1, functioncode=3)\n",
    "#                 print(\"Alarm Channel 3 Axis: \"+axis_check(alarm_channel_3_axis[0]))\n",
    "#                 alarm_channel_3_type = trivibe.read_registers(323, 1, functioncode=3)\n",
    "#                 print(\"Alarm Channel 3 Type: \"+type_check(alarm_channel_3_type[0]))\n",
    "#                 alarm_channel_3_low_limit = trivibe.read_float(324, functioncode=3, number_of_registers=2, byteorder=0)\n",
    "#                 print(\"Low: \"+str(alarm_channel_3_low_limit))\n",
    "#                 alarm_channel_3_high_limit = trivibe.read_float(326, functioncode=3, number_of_registers=2, byteorder=0)\n",
    "#                 print(\"High: \"+str(alarm_channel_3_high_limit))\n",
    "#                 alarm_channel_3_high_high_limit = trivibe.read_float(328, functioncode=3, number_of_registers=2, byteorder=0)\n",
    "#                 print(\"High-High: \"+str(alarm_channel_3_high_high_limit))\n",
    "#                 alarm_channel_3_hysteresis = trivibe.read_float(330, functioncode=3, number_of_registers=2, byteorder=0)\n",
    "#                 print(\"Hysteresis: \"+str(alarm_channel_3_hysteresis))\n",
    "\n",
    "#                 # channel 4 settings\n",
    "#                 alarm_channel_4_axis = trivibe.read_registers(332, 1, functioncode=3)\n",
    "#                 print(\"Alarm Channel 4 Axis: \"+axis_check(alarm_channel_4_axis[0]))\n",
    "#                 alarm_channel_4_type = trivibe.read_registers(333, 1, functioncode=3)\n",
    "#                 print(\"Alarm Channel 4 Type: \"+type_check(alarm_channel_4_type[0]))\n",
    "#                 alarm_channel_4_low_limit = trivibe.read_float(334, functioncode=3, number_of_registers=2, byteorder=0)\n",
    "#                 print(\"Low: \"+str(alarm_channel_4_low_limit))\n",
    "#                 alarm_channel_4_high_limit = trivibe.read_float(336, functioncode=3, number_of_registers=2, byteorder=0)\n",
    "#                 print(\"High: \"+str(alarm_channel_4_high_limit))\n",
    "#                 alarm_channel_4_high_high_limit = trivibe.read_float(338, functioncode=3, number_of_registers=2, byteorder=0)\n",
    "#                 print(\"High-High: \"+str(alarm_channel_4_high_high_limit))\n",
    "#                 alarm_channel_4_hysteresis = trivibe.read_float(340, functioncode=3, number_of_registers=2, byteorder=0)\n",
    "#                 print(\"Hysteresis: \"+str(alarm_channel_4_hysteresis))\n",
    "\n",
    "#             except IOError:\n",
    "#                 return(self.readError)\n",
    "        \n",
    "#         def updateAlarmSettings(self):\n",
    "#             pass\n",
    "\n",
    "### SNAPSHOT METHODS\n",
    "##########################################################################################################################################################################################\n",
    "    def setSnapshotTime(self, milliseconds=1000):\n",
    "        '''Set the length of time for the sensor to capture. Validates input: is 10ms increments between 10 & 30000.'''\n",
    "        if(milliseconds % 10 == 0 and 10<milliseconds<30000):\n",
    "            self.modbus.write_register(35, milliseconds, number_of_decimals=0, functioncode=16, signed=False)\n",
    "            capture_time = self.modbus.read_register(35, functioncode=3)\n",
    "            self.snapshot.setdefault(\"capture_time_ms\", capture_time)\n",
    "            self.snapshot.setdefault(\"capture_time_s\", capture_time/1000)\n",
    "        else:\n",
    "            raise ValueError('milliseconds should be a 10ms increment between 10 and 30000.')\n",
    "     \n",
    "    def setSnapshotSamples(self, samples=16384):\n",
    "        '''Set the how many samples per axis for the sensor to capture over the capture time. Valid inputs powers of 2 from 256 - 1048576.'''\n",
    "        self.modbus.write_long(36, samples, signed=False, byteorder=0)\n",
    "        samples_per_axis = self.modbus.read_long(36, functioncode=3, signed=False, byteorder=0)\n",
    "        self.snapshot.setdefault(\"samples_per_axis\", samples_per_axis)\n",
    "\n",
    "    def _modbus_map_internal_accel(self, x):\n",
    "        '''Accepts a value of 5 or 6 and returns a string for the internal accelerometer that was selected for snapshot collection.'''\n",
    "        return {\n",
    "            5:self.info[\"internal_accelerometer_1\"],\n",
    "            6:self.info[\"internal_accelerometer_2\"],\n",
    "        }.get(x, 'error')    # 'error' is default if x not found\n",
    "\n",
    "    def setSnapshotAccel(self, internalAccel=5):\n",
    "        '''Sets which of the two accelerometers inside the Tri-Vibe sensor to target when a snapshot is triggered. Valid Inputs: 5 or 6.'''\n",
    "        self.modbus.write_register(32, internalAccel, number_of_decimals=0, functioncode=16, signed=False)\n",
    "        selected_internal_accelerometer = self.modbus.read_register(32, functioncode=3)\n",
    "        selected = self._modbus_map_internal_accel(selected_internal_accelerometer)\n",
    "        try:\n",
    "            self.snapshot.update({\"internal_accelerometer\":selected})\n",
    "        except KeyError:\n",
    "            self.snapshot.setdefault(\"internal_accelerometer\", selected)\n",
    "\n",
    "    def _modbus_map_capture_engine_status(self, x):\n",
    "        return {\n",
    "            0:\"Idle\",\n",
    "            1:\"Complete\",\n",
    "            2:\"In Progress\",\n",
    "            3:\"Start Error\",\n",
    "            4:\"Timeout Error\",\n",
    "        }.get(x, 'error')    # 'error' is default if x not found\n",
    "\n",
    "    def updateSnapshotEngineStatus(self):\n",
    "        capture_engine_status = self.modbus.read_register(34, functioncode=3)\n",
    "        time.sleep(0.1)\n",
    "        try:\n",
    "            self.snapshot.update({\"capture_engine_status\":self._modbus_map_capture_engine_status(capture_engine_status)})\n",
    "        except KeyError:\n",
    "            self.snapshot.setdefault(\"capture_engine_status\", self._modbus_map_capture_engine_status(capture_engine_status))\n",
    "    \n",
    "    def triggerSnapshot(self):\n",
    "        '''Trigger the sensor to begin collecting and storing triaxial RAW accelerometer data in sensor memory. Writes a value of 1 to register 33.'''\n",
    "        self.modbus.write_register(33, 1, functioncode=16)\n",
    "        try:\n",
    "            self.snapshot.update({\"timestamp\":int(str(time.time())[slice(10)])})\n",
    "        except KeyError:\n",
    "            self.snapshot.setdefault(\"timestamp\", int(str(time.time())[slice(10)]))\n",
    "        try:\n",
    "            self.snapshot.update({\"datetime\":str(datetime.fromtimestamp(self.snapshot.get(\"timestamp\")))})\n",
    "        except KeyError:\n",
    "            self.snapshot.setdefault(\"datetime\", str(datetime.fromtimestamp(self.snapshot.get(\"timestamp\"))))\n",
    "        try:\n",
    "            self.snapshot.update({\"triaxial_RAW_samples\":[]})\n",
    "        except KeyError:\n",
    "            self.snapshot.setdefault(\"triaxial_RAW_samples\",[])\n",
    "        try:\n",
    "            self.snapshot.update({\"current_chunk\":0})\n",
    "        except KeyError:\n",
    "            self.snapshot.setdefault(\"current_chunk\",0)\n",
    "        self._calcSnapshotTotalSamples()\n",
    "        self._calcSnapshotChunks()\n",
    "        self._createTimeArray()\n",
    "\n",
    "    def _calcSnapshotTotalSamples(self):\n",
    "        '''Gets the total number of samples held on the tri-vibe for the triaxial_raw data set.'''\n",
    "        total_samples = self.snapshot.get(\"samples_per_axis\")*3\n",
    "        try:\n",
    "            self.snapshot.update({\"total_samples\":total_samples})\n",
    "        except KeyError:\n",
    "            self.snapshot.setdefault(\"total_samples\", total_samples)\n",
    "\n",
    "    def _calcSnapshotChunks(self):\n",
    "        '''The tri-vibe can return sets of 122 samples of the triaxial_raw  data set per read. This function calculates how many times we must read modbus registers 50 - 123 to get the complete data set.'''\n",
    "        try:\n",
    "            self.snapshot.update({\"chunks_to_read\":int(np.ceil(self.snapshot.get(\"total_samples\")/122))})\n",
    "        except KeyError:\n",
    "            self.snapshot.setdefault(\"chunks_to_read\", int(np.ceil(self.snapshot.get(\"total_samples\")/122)))\n",
    "\n",
    "    def _createTimeArray(self):\n",
    "        '''Creates the x-axis of the timewave form chart.'''\n",
    "        time_ms = self.snapshot.get(\"capture_time_ms\")\n",
    "        samples_per_axis = self.snapshot.get(\"samples_per_axis\")\n",
    "        step = time_ms/samples_per_axis\n",
    "        if(step < 0.02):\n",
    "            raise ValueError(\"Sample_Rate exceeds Tri-Vibe built in ADC capability of 50,000 samples per second. Please change capture_time or samples_per_axis so that time/samples >= 0.02\")\n",
    "        else:\n",
    "            start = 0\n",
    "            stop = time_ms\n",
    "            time_array = np.arange(start, stop, step)\n",
    "            try:\n",
    "                self.snapshot.update({\"time_array_ms\":time_array})\n",
    "            except KeyError:\n",
    "                self.snapshot.setdefault(\"time_array_ms\",time_array)\n",
    "\n",
    "    def collectSnapshot(self):\n",
    "        while(self.snapshot.get(\"current_chunk\")<self.snapshot.get(\"chunks_to_read\")):\n",
    "                self.collectSnapshotChunk()\n",
    "                self.snapshot[\"current_chunk\"]+=1\n",
    "        self._sliceToAxis()\n",
    "\n",
    "    def collectSnapshotChunk(self):\n",
    "        chunk_read = self.modbus.read_registers(49, 123, functioncode=3)\n",
    "        try:\n",
    "            self.snapshot.update({\"start_sample_number_last_chunk_read\":chunk_read[0]})\n",
    "        except KeyError:\n",
    "            self.snapshot.setdefault(\"start_sample_number_last_chunk_read\", chunk_read[0])\n",
    "        chunk_read.pop(0)\n",
    "        for each in chunk_read:\n",
    "            self.snapshot[\"triaxial_RAW_samples\"].append(each)\n",
    "        \n",
    "    def createSnapshotXLSX(self):\n",
    "        cwd = os.getcwd()                                # save Jupyter notebook's directory\n",
    "        os.chdir('snapshots')                            # move to snapshots directory\n",
    "        # Excel Sheet Storage of Data\n",
    "        # Create a workbook and add a worksheet.\n",
    "        workbook = xlsxwriter.Workbook(str(self.info.get(\"serial\"))+'_'+str(self.snapshot.get(\"timestamp\"))+'.xlsx')\n",
    "        worksheet = workbook.add_worksheet()\n",
    "\n",
    "        # Start from the first cell. Rows and columns are zero indexed.\n",
    "\n",
    "        # Add Column Headers\n",
    "        worksheet.write(0, 0, \"timestamp\")\n",
    "        worksheet.write(0, 1, \"time_ms\")\n",
    "        worksheet.write(0, 2, \"a1_twf\")\n",
    "        worksheet.write(0, 3, \"a2_twf\")\n",
    "        worksheet.write(0, 4, \"a3_twf\")\n",
    "        worksheet.write(0, 5, \"a1_sensitivity\")\n",
    "        worksheet.write(0, 6, \"a2_sensitivity\")\n",
    "        worksheet.write(0, 7, \"a3_sensitivity\")\n",
    "        worksheet.write(0, 8, \"capture_time_ms\")\n",
    "        worksheet.write(0, 9, \"samples_per_axis\")\n",
    "\n",
    "        row = 1\n",
    "        col = 0\n",
    "        # Iterate over timestamp data and write it out row by row.\n",
    "        for each in self.snapshot.get(\"time_array_ms\"):\n",
    "            worksheet.write(row, col, self.snapshot.get(\"timestamp\"))\n",
    "            row += 1\n",
    "\n",
    "        # Iterate over Amplitude data and write it out row by row.\n",
    "        row = 1\n",
    "        col = 1\n",
    "        for each in self.snapshot.get(\"time_array_ms\"):\n",
    "            worksheet.write(row, col, each)\n",
    "            row += 1\n",
    "\n",
    "        row = 1\n",
    "        col = 2\n",
    "        for each in self.snapshot.get(\"axis_1_RAW\"):\n",
    "            worksheet.write(row, col, each)\n",
    "            row += 1\n",
    "\n",
    "        row = 1\n",
    "        col = 3\n",
    "        for each in self.snapshot.get(\"axis_2_RAW\"):\n",
    "            worksheet.write(row, col, each)\n",
    "            row += 1\n",
    "\n",
    "        row = 1\n",
    "        col = 4\n",
    "        for each in self.snapshot.get(\"axis_3_RAW\"):\n",
    "            worksheet.write(row, col, each)\n",
    "            row += 1\n",
    "\n",
    "        row = 1\n",
    "        col = 5\n",
    "        worksheet.write(row, col, self.snapshot.get(\"internal_accelerometer\").get(\"axis_1_sensitivity\"))\n",
    "\n",
    "        row = 1\n",
    "        col = 6\n",
    "        worksheet.write(row, col, self.snapshot.get(\"internal_accelerometer\").get(\"axis_2_sensitivity\"))\n",
    "\n",
    "        row = 1\n",
    "        col = 7\n",
    "        worksheet.write(row, col, self.snapshot.get(\"internal_accelerometer\").get(\"axis_1_sensitivity\"))\n",
    "\n",
    "        row = 1\n",
    "        col = 8\n",
    "        worksheet.write(row, col, self.snapshot.get(\"capture_time_ms\"))\n",
    "\n",
    "        row = 1\n",
    "        col = 9\n",
    "        worksheet.write(row, col, self.snapshot.get(\"samples_per_axis\"))\n",
    "\n",
    "        workbook.close()\n",
    "        os.chdir(cwd)\n",
    "        print('Saved '+str(self.info.get(\"serial\"))+'_'+str(self.snapshot.get(\"timestamp\"))+'.xlsx''.xlsx File to /snapshots Directory')\n",
    "\n",
    "\n",
    "    def _createFreqArray(self):\n",
    "        n = np.size(self.snapshot.get(\"time_array\")) #5000\n",
    "        print(n)\n",
    "        sample_rate = self.snapshot.get(\"sample_rate\")\n",
    "        print(sample_rate)\n",
    "        freq_array = (sample_rate/2)*np.linspace(0,1,n//2)\n",
    "        trimmed_frequency_array = freq_array\n",
    "        self.snapshot.setdefault(\"freq_array\",trimmed_frequency_array)\n",
    "\n",
    "    def processCollectedSnapshot(self):\n",
    "        if \"axis_1_acceleration\" not in self.snapshot:\n",
    "            self.snapshot[\"axis_1_acceleration\"]=[]\n",
    "            self.snapshot[\"axis_2_acceleration\"]=[]\n",
    "            self.snapshot[\"axis_3_acceleration\"]=[]\n",
    "            self.processCollectedSnapshot()\n",
    "        else:\n",
    "            self._sliceToAxis()\n",
    "            self.snapshot[\"axis_1_acceleration\"] = self._processAxisAcceleration(self.snapshot[\"axis_1_RAW\"],self.snapshot[\"internal_accelerometer\"][\"axis_1_sensitivity\"])\n",
    "            self.snapshot[\"axis_2_acceleration\"] = self._processAxisAcceleration(self.snapshot[\"axis_2_RAW\"],self.snapshot[\"internal_accelerometer\"][\"axis_2_sensitivity\"])\n",
    "            self.snapshot[\"axis_3_acceleration\"] = self._processAxisAcceleration(self.snapshot[\"axis_3_RAW\"],self.snapshot[\"internal_accelerometer\"][\"axis_3_sensitivity\"])\n",
    "\n",
    "    def _sliceToAxis(self):\n",
    "        '''Takes the triaxial RAW Snapshot array and splits it into individual arrays of the individual axes. Note: We read 122 blocks of data at a time via Modbus to get the RAW samples... when sliced based on samples_per_axis the additional zeros sent in the last chunk read are ignored as expected.'''\n",
    "        try:\n",
    "            self.snapshot.update({\"axis_1_RAW\":self.snapshot[\"triaxial_RAW_samples\"][0:self.snapshot[\"samples_per_axis\"]],\n",
    "                                  \"axis_2_RAW\":self.snapshot[\"triaxial_RAW_samples\"][self.snapshot[\"samples_per_axis\"]:(self.snapshot[\"samples_per_axis\"]*2)],\n",
    "                                  \"axis_3_RAW\":self.snapshot[\"triaxial_RAW_samples\"][(self.snapshot[\"samples_per_axis\"]*2):(self.snapshot[\"samples_per_axis\"]*3)]})\n",
    "        except KeyError:\n",
    "            self.snapshot.setDefault({\"axis_1_RAW\":self.snapshot[\"triaxial_RAW_samples\"][0:self.snapshot[\"samples_per_axis\"]],\n",
    "                                  \"axis_2_RAW\":self.snapshot[\"triaxial_RAW_samples\"][self.snapshot[\"samples_per_axis\"]:(self.snapshot[\"samples_per_axis\"]*2)],\n",
    "                                  \"axis_3_RAW\":self.snapshot[\"triaxial_RAW_samples\"][(self.snapshot[\"samples_per_axis\"]*2):(self.snapshot[\"samples_per_axis\"]*3)]})\n",
    "\n",
    "    \n",
    "    def _processAxisAcceleration(self, array, sensitivity):\n",
    "        '''Takes an axis array of RAW accelerometer data and converts to the Timewave Form values in Acceleration.'''\n",
    "        new_array=[]\n",
    "        constant_k = 3000/65535\n",
    "        virtual_zero = self._getVirtualZero(min(array),max(array))\n",
    "        for index in range(len(array)):\n",
    "            if array[index] > virtual_zero:\n",
    "                new_array.append((abs(array[index]-virtual_zero)*constant_k)/sensitivity)\n",
    "            elif array[index] < virtual_zero:\n",
    "                new_array.append((-abs(array[index]-virtual_zero)*constant_k)/sensitivity)\n",
    "            else:\n",
    "                new_array.append(0)\n",
    "        return(new_array)\n",
    "            \n",
    "            \n",
    "    def _getVirtualZero(self, minimum, maximum):\n",
    "        '''Returns the zero position for an axis array.'''\n",
    "        return((maximum-minimum)/2+minimum)\n",
    "    \n",
    "    def easySnapshot(self):\n",
    "        self.setSnapshotTime()\n",
    "        self.setSnapshotSamples()\n",
    "        self.setSnapshotAccel()\n",
    "        while(self.snapshot[\"capture_engine_status\"]!=\"Idle\"):\n",
    "            self.updateSnapshotEngineStatus()\n",
    "            time.sleep(0.5)\n",
    "        self.triggerSnapshot()\n",
    "        while(self.snapshot[\"capture_engine_status\"]!=\"Complete\"):\n",
    "            self.updateSnapshotEngineStatus()\n",
    "            time.sleep(0.5)\n",
    "        self.collectSnapshot()\n",
    "        self.processCollectedSnapshot()\n",
    "    \n",
    "        "
   ]
  },
  {
   "cell_type": "markdown",
   "metadata": {},
   "source": [
    "<a id='notebooklibraries'></a>\n",
    "---"
   ]
  },
  {
   "cell_type": "markdown",
   "metadata": {},
   "source": [
    "# Part 3: Required Libraries for NOTEBOOK"
   ]
  },
  {
   "cell_type": "code",
   "execution_count": 3,
   "metadata": {},
   "outputs": [],
   "source": [
    "# notebook libraries\n",
    "import serial.tools.list_ports              # used to find COM Port of your USB to RS485 Converter"
   ]
  },
  {
   "cell_type": "markdown",
   "metadata": {},
   "source": [
    "<a id='checkport'></a>\n",
    "---"
   ]
  },
  {
   "cell_type": "markdown",
   "metadata": {},
   "source": [
    "# Part 4: Find Computer's RS485 Port\n",
    "#### Windows Users Port Address Should Look Like: 'COM3'\n",
    "#### Linux Users Port Address Should Look Like: '/dev/ttyUSB0'\n",
    "#### 1. You should pass the RS485 Port Address as the 2nd Argument when creating a sensor object."
   ]
  },
  {
   "cell_type": "code",
   "execution_count": 4,
   "metadata": {},
   "outputs": [
    {
     "name": "stdout",
     "output_type": "stream",
     "text": [
      "COM5 - Standard Serial over Bluetooth link (COM5)\n"
     ]
    }
   ],
   "source": [
    "def getPorts():\n",
    "    ports = list(serial.tools.list_ports.comports())\n",
    "    if len(ports)==0:\n",
    "        raise Exception('You must plug in an RS485 to USB Converter or have an RS485 Port on your computer to run the rest of this notebook.')\n",
    "    else:\n",
    "        for p in ports:\n",
    "            return(p)\n",
    "\n",
    "print(getPorts())"
   ]
  },
  {
   "cell_type": "markdown",
   "metadata": {},
   "source": [
    "<a id='methodlist'></a>\n",
    "---"
   ]
  },
  {
   "cell_type": "markdown",
   "metadata": {},
   "source": [
    "# Part 5: Available TRIVIBE Methods (Functions)  \n",
    "#### 1. Methods do one of the following things:  \n",
    "* gather information from the sensor and store them in attributes.  \n",
    "* change information already stored in attributes.  \n",
    "* take information stored in attributes and store on the local filesystem  \n",
    "* take information stored on the local filesystem and visualize it  \n",
    "\n",
    "#### 2. The list of methods below are the methods built for users of of the TRIVIBE CLASS\n",
    "#### 3. Implementation details can be read in the [TRIVIBE CLASS](#trivibeclass)  \n",
    "#### 4. Each of the Methods will be shows in the [examples section](#examples)"
   ]
  },
  {
   "cell_type": "code",
   "execution_count": 5,
   "metadata": {},
   "outputs": [
    {
     "name": "stdout",
     "output_type": "stream",
     "text": [
      "changeSlaveAddress()\n",
      "collectSnapshot()\n",
      "collectSnapshotChunk()\n",
      "createSnapshotXLSX()\n",
      "easySnapshot()\n",
      "processCollectedSnapshot()\n",
      "reboot()\n",
      "setSnapshotAccel()\n",
      "setSnapshotSamples()\n",
      "setSnapshotTime()\n",
      "triggerSnapshot()\n",
      "updateSnapshotEngineStatus()\n",
      "updateTemperature()\n",
      "updateUptime()\n",
      "updateVibration()\n"
     ]
    }
   ],
   "source": [
    "method_list = [func for func in dir(TRIVIBE) if callable(getattr(TRIVIBE, func))and not func.startswith(\"__\") and not func.startswith(\"_\")]\n",
    "for each in method_list:\n",
    "    print(each+'()')"
   ]
  },
  {
   "cell_type": "markdown",
   "metadata": {},
   "source": [
    "<a id='instantiation'></a>\n",
    "---"
   ]
  },
  {
   "cell_type": "markdown",
   "metadata": {},
   "source": [
    "# Part 6: Create a Sensor Object from [TRIVIBE CLASS](#trivibeclass)\n",
    "#### 1. Required Arguments: MODBUS SLAVE ADDRESS and RS485 PORT ADDRESS.\n",
    "#### 2. To reuse the Sensor Object throughout the project (NOTEBOOK), It must be assigned a variable name.\n",
    "#### 3. Machine Saver prefers to use the Machine Name and Sensor's Position on the Machine as the variable name.  \n",
    "#### 4. For examples taken from your own connected Tri-Vibe Sensor, simply edit the arguments below with your MODBUS SLAVE ADDRESS and RS485 PORT ADDRESS. Then re-run this notebook.\n",
    "\n",
    "# TODO: Add Motor/Pump Picture with Sensors"
   ]
  },
  {
   "cell_type": "code",
   "execution_count": 6,
   "metadata": {},
   "outputs": [],
   "source": [
    "motor_inboard = TRIVIBE(72, 'COM3')"
   ]
  },
  {
   "cell_type": "markdown",
   "metadata": {},
   "source": [
    "<a id='attributelist'></a>\n",
    "---"
   ]
  },
  {
   "cell_type": "code",
   "execution_count": null,
   "metadata": {},
   "outputs": [],
   "source": []
  },
  {
   "cell_type": "markdown",
   "metadata": {},
   "source": [
    "# Part 7: Available TRIVIBE Attributes (Properties)\n",
    "#### 1. Attributes Store Information about a Tri-Vibe Sensor and its relevant data."
   ]
  },
  {
   "cell_type": "code",
   "execution_count": 7,
   "metadata": {},
   "outputs": [
    {
     "name": "stdout",
     "output_type": "stream",
     "text": [
      "serialPort\n",
      "modbus\n",
      "info\n",
      "uptime\n",
      "vibration\n",
      "temperature\n",
      "alarms\n",
      "snapshot\n"
     ]
    }
   ],
   "source": [
    "attribute_list = motor_inboard.__dict__\n",
    "for each in attribute_list:\n",
    "    print(each)"
   ]
  },
  {
   "cell_type": "markdown",
   "metadata": {},
   "source": [
    "<a id='staticattributes'></a>\n",
    "---"
   ]
  },
  {
   "cell_type": "markdown",
   "metadata": {},
   "source": [
    "# Part 8: Static Attributes\n",
    "#### 1. Some Attributes should not change throughout the lifecycle of the Tri-Vibe Sensor.\n",
    "#### 2. The [Attributes](#attributelist) below are created when the Sensor Object is [created](#instantiation) and are not intended to change."
   ]
  },
  {
   "cell_type": "code",
   "execution_count": 8,
   "metadata": {},
   "outputs": [
    {
     "data": {
      "text/plain": [
       "{'serial': 41972,\n",
       " 'revision': 109,\n",
       " 'board_type': ['2g', '4g'],\n",
       " 'internal_accelerometer_1': {'max_amplitude_gPK': 2,\n",
       "  'max_frequency_hz': 1000,\n",
       "  'axis_1_sensitivity': 661.4166870117188,\n",
       "  'axis_2_sensitivity': 662.5479125976562,\n",
       "  'axis_3_sensitivity': 658.4449462890625},\n",
       " 'internal_accelerometer_2': {'max_amplitude_gPK': 4,\n",
       "  'max_frequency_hz': 1000,\n",
       "  'axis_1_sensitivity': 327.75286865234375,\n",
       "  'axis_2_sensitivity': 332.95965576171875,\n",
       "  'axis_3_sensitivity': 327.2760009765625}}"
      ]
     },
     "execution_count": 8,
     "metadata": {},
     "output_type": "execute_result"
    }
   ],
   "source": [
    "motor_inboard.info"
   ]
  },
  {
   "cell_type": "markdown",
   "metadata": {},
   "source": [
    "<a id='exampleuptime'></a>\n",
    "---"
   ]
  },
  {
   "cell_type": "markdown",
   "metadata": {},
   "source": [
    "# Part 9: Example Uptime\n",
    "#### 1. Let's call the uptime [Attribute](#attributelist) for our example sensor."
   ]
  },
  {
   "cell_type": "code",
   "execution_count": 9,
   "metadata": {},
   "outputs": [
    {
     "data": {
      "text/plain": [
       "{}"
      ]
     },
     "execution_count": 9,
     "metadata": {},
     "output_type": "execute_result"
    }
   ],
   "source": [
    "motor_inboard.uptime"
   ]
  },
  {
   "cell_type": "markdown",
   "metadata": {},
   "source": [
    "#### 2. Notice how the uptime is an empty object within the sensor object\n",
    "#### 3. This is because we have not yet called the Method which updates this Attribute\n",
    "#### 4. Lets do that now using the updateUptime() [Method](#methodlist)"
   ]
  },
  {
   "cell_type": "code",
   "execution_count": 10,
   "metadata": {},
   "outputs": [],
   "source": [
    "motor_inboard.updateUptime()"
   ]
  },
  {
   "cell_type": "markdown",
   "metadata": {},
   "source": [
    "#### 5. Let's check the uptime [Attribute](#attributelist) after running the updateUptime() [Method](#methodlist)"
   ]
  },
  {
   "cell_type": "code",
   "execution_count": 11,
   "metadata": {},
   "outputs": [
    {
     "data": {
      "text/plain": [
       "{'minutes': 5, 'hours': 1, 'days': 0}"
      ]
     },
     "execution_count": 11,
     "metadata": {},
     "output_type": "execute_result"
    }
   ],
   "source": [
    "motor_inboard.uptime"
   ]
  },
  {
   "cell_type": "markdown",
   "metadata": {},
   "source": [
    "#### 6. It is important to understand that the [Attributes](#attributelist) are NOT self updating (except for the [Static](#staticattributes) ones which are created when the Sensor Object is initialized).\n",
    "#### 7. To guarantee up-to-date data, the appropriate [Methods](#methodlist) must be called to update the [Attribute](#attributelist) to be read for each Sensor Object BEFORE the Sensor Object's state is read."
   ]
  },
  {
   "cell_type": "markdown",
   "metadata": {},
   "source": [
    "<a id='exampletemperature'></a>\n",
    "---"
   ]
  },
  {
   "cell_type": "markdown",
   "metadata": {},
   "source": [
    "# Part 10: Example Temperature\n",
    "#### 1. Call the updateTemperature() [Method](#methodlist)"
   ]
  },
  {
   "cell_type": "code",
   "execution_count": 12,
   "metadata": {},
   "outputs": [],
   "source": [
    "motor_inboard.updateTemperature()"
   ]
  },
  {
   "cell_type": "markdown",
   "metadata": {},
   "source": [
    "#### 2. Read the [Attribute](#attributelist) that was Updated"
   ]
  },
  {
   "cell_type": "code",
   "execution_count": 13,
   "metadata": {},
   "outputs": [
    {
     "data": {
      "text/plain": [
       "{'celcius': 24.8, 'fahrenheit': 76.64}"
      ]
     },
     "execution_count": 13,
     "metadata": {},
     "output_type": "execute_result"
    }
   ],
   "source": [
    "motor_inboard.temperature"
   ]
  },
  {
   "cell_type": "markdown",
   "metadata": {},
   "source": [
    "<a id='examplevibration'></a>\n",
    "---"
   ]
  },
  {
   "cell_type": "markdown",
   "metadata": {},
   "source": [
    "# Part 11: Example Vibration\n",
    "#### 1. Call the updateVibration() [Method](#methodlist)"
   ]
  },
  {
   "cell_type": "code",
   "execution_count": 14,
   "metadata": {},
   "outputs": [],
   "source": [
    "motor_inboard.updateVibration()"
   ]
  },
  {
   "cell_type": "markdown",
   "metadata": {},
   "source": [
    "#### 2. Read the [Attribute](#attributelist) that was Updated"
   ]
  },
  {
   "cell_type": "code",
   "execution_count": 15,
   "metadata": {},
   "outputs": [
    {
     "data": {
      "text/plain": [
       "{'axis_1_acceleration_g_RMS': 0.01648396998643875,\n",
       " 'axis_2_acceleration_g_RMS': 0.026615869253873825,\n",
       " 'axis_3_acceleration_g_RMS': 0.05763695761561394,\n",
       " 'axis_1_velocity_ips_RMS': 0.02998722530901432,\n",
       " 'axis_2_velocity_ips_RMS': 0.022852154448628426,\n",
       " 'axis_3_velocity_ips_RMS': 0.11021057516336441}"
      ]
     },
     "execution_count": 15,
     "metadata": {},
     "output_type": "execute_result"
    }
   ],
   "source": [
    "motor_inboard.vibration"
   ]
  },
  {
   "cell_type": "markdown",
   "metadata": {},
   "source": [
    "<a id='easysnapshot'></a>\n",
    "---"
   ]
  },
  {
   "cell_type": "markdown",
   "metadata": {},
   "source": [
    "## Part 12: Example Detailed Snapshot  \n",
    "#### 1. Let's call the snapshot [Attribute](#attributelist) for our example sensor."
   ]
  },
  {
   "cell_type": "code",
   "execution_count": 16,
   "metadata": {},
   "outputs": [
    {
     "data": {
      "text/plain": [
       "{}"
      ]
     },
     "execution_count": 16,
     "metadata": {},
     "output_type": "execute_result"
    }
   ],
   "source": [
    "motor_inboard.snapshot"
   ]
  },
  {
   "cell_type": "markdown",
   "metadata": {},
   "source": [
    "#### 2. Notice how the snapshot object starts out empty within the sensor object.\n",
    "#### 3. This is because we have not yet called the Methods which update this Attribute.\n",
    "#### 4. Lets do that now using the easySnapshot() [Method](#methodlist)."
   ]
  },
  {
   "cell_type": "markdown",
   "metadata": {},
   "source": [
    "# Setup Snapshot Parameters"
   ]
  },
  {
   "cell_type": "code",
   "execution_count": 17,
   "metadata": {},
   "outputs": [
    {
     "data": {
      "text/plain": [
       "{'capture_time_ms': 2000, 'capture_time_s': 2.0}"
      ]
     },
     "execution_count": 17,
     "metadata": {},
     "output_type": "execute_result"
    }
   ],
   "source": [
    "motor_inboard.setSnapshotTime(2000)\n",
    "motor_inboard.snapshot"
   ]
  },
  {
   "cell_type": "code",
   "execution_count": 18,
   "metadata": {},
   "outputs": [
    {
     "data": {
      "text/plain": [
       "{'capture_time_ms': 2000, 'capture_time_s': 2.0, 'samples_per_axis': 16384}"
      ]
     },
     "execution_count": 18,
     "metadata": {},
     "output_type": "execute_result"
    }
   ],
   "source": [
    "motor_inboard.setSnapshotSamples(16384)\n",
    "motor_inboard.snapshot"
   ]
  },
  {
   "cell_type": "code",
   "execution_count": 19,
   "metadata": {},
   "outputs": [
    {
     "data": {
      "text/plain": [
       "{'max_amplitude_gPK': 2,\n",
       " 'max_frequency_hz': 1000,\n",
       " 'axis_1_sensitivity': 661.4166870117188,\n",
       " 'axis_2_sensitivity': 662.5479125976562,\n",
       " 'axis_3_sensitivity': 658.4449462890625}"
      ]
     },
     "execution_count": 19,
     "metadata": {},
     "output_type": "execute_result"
    }
   ],
   "source": [
    "motor_inboard.setSnapshotAccel(5)\n",
    "motor_inboard.snapshot.get(\"internal_accelerometer\")"
   ]
  },
  {
   "cell_type": "markdown",
   "metadata": {},
   "source": [
    "# Check Snapshot Engine is Idle before Triggering Snapshot"
   ]
  },
  {
   "cell_type": "code",
   "execution_count": 20,
   "metadata": {},
   "outputs": [
    {
     "name": "stdout",
     "output_type": "stream",
     "text": [
      "Idle\n"
     ]
    }
   ],
   "source": [
    "while(motor_inboard.snapshot.get(\"capture_engine_status\")!=\"Idle\"):\n",
    "    motor_inboard.updateSnapshotEngineStatus()\n",
    "    print(motor_inboard.snapshot.get(\"capture_engine_status\"))\n",
    "    time.sleep(0.5)\n",
    "motor_inboard.triggerSnapshot()"
   ]
  },
  {
   "cell_type": "markdown",
   "metadata": {},
   "source": [
    "# Check Snapshot Engine is Complete before Snapshot Collect"
   ]
  },
  {
   "cell_type": "code",
   "execution_count": 21,
   "metadata": {},
   "outputs": [
    {
     "name": "stdout",
     "output_type": "stream",
     "text": [
      "In Progress\n",
      "In Progress\n",
      "In Progress\n",
      "In Progress\n",
      "Complete\n"
     ]
    }
   ],
   "source": [
    "while(motor_inboard.snapshot.get(\"capture_engine_status\")!= \"Complete\"):\n",
    "    motor_inboard.updateSnapshotEngineStatus()\n",
    "    print(motor_inboard.snapshot.get(\"capture_engine_status\"))\n",
    "    time.sleep(0.5)\n",
    "motor_inboard.collectSnapshot()"
   ]
  },
  {
   "cell_type": "markdown",
   "metadata": {},
   "source": [
    "# View Gathered Snapshot Object"
   ]
  },
  {
   "cell_type": "code",
   "execution_count": 22,
   "metadata": {},
   "outputs": [],
   "source": [
    "# motor_inboard.snapshot.get(\"triaxial_RAW_samples\")"
   ]
  },
  {
   "cell_type": "markdown",
   "metadata": {},
   "source": [
    "The triaxial data set will likely have trailing zeroes because the total samples rarely fit cleanly into our 122 modbus register read.\n",
    "So we need to slice the triaxial set up into individual axis using samples per axis which will ignore the padded zeroes at the end."
   ]
  },
  {
   "cell_type": "code",
   "execution_count": 23,
   "metadata": {},
   "outputs": [
    {
     "name": "stdout",
     "output_type": "stream",
     "text": [
      "34167\n",
      "37889\n",
      "16384\n"
     ]
    }
   ],
   "source": [
    "motor_inboard.snapshot.get(\"axis_1_RAW\")\n",
    "print(min(motor_inboard.snapshot.get(\"axis_1_RAW\")))\n",
    "print(max(motor_inboard.snapshot.get(\"axis_1_RAW\")))\n",
    "print(np.size(motor_inboard.snapshot.get(\"axis_1_RAW\")))"
   ]
  },
  {
   "cell_type": "code",
   "execution_count": 24,
   "metadata": {},
   "outputs": [
    {
     "name": "stdout",
     "output_type": "stream",
     "text": [
      "18644\n",
      "24107\n",
      "16384\n"
     ]
    }
   ],
   "source": [
    "motor_inboard.snapshot.get(\"axis_2_RAW\")\n",
    "print(min(motor_inboard.snapshot.get(\"axis_2_RAW\")))\n",
    "print(max(motor_inboard.snapshot.get(\"axis_2_RAW\")))\n",
    "print(np.size(motor_inboard.snapshot.get(\"axis_2_RAW\")))"
   ]
  },
  {
   "cell_type": "code",
   "execution_count": 25,
   "metadata": {},
   "outputs": [
    {
     "name": "stdout",
     "output_type": "stream",
     "text": [
      "33205\n",
      "39065\n",
      "16384\n"
     ]
    }
   ],
   "source": [
    "motor_inboard.snapshot.get(\"axis_3_RAW\")\n",
    "print(min(motor_inboard.snapshot.get(\"axis_3_RAW\")))\n",
    "print(max(motor_inboard.snapshot.get(\"axis_3_RAW\")))\n",
    "print(np.size(motor_inboard.snapshot.get(\"axis_3_RAW\")))"
   ]
  },
  {
   "cell_type": "code",
   "execution_count": 26,
   "metadata": {},
   "outputs": [
    {
     "name": "stdout",
     "output_type": "stream",
     "text": [
      "16384\n",
      "1999.8779296875\n"
     ]
    }
   ],
   "source": [
    "print(np.size(motor_inboard.snapshot.get(\"time_array_ms\")))\n",
    "print(max(motor_inboard.snapshot.get(\"time_array_ms\")))"
   ]
  },
  {
   "cell_type": "markdown",
   "metadata": {},
   "source": [
    "Now that the minimal amount of data has been generated for the sensor, we can create an excel sheet with the data and save it and export it to the cloud (and process the FFT not using the precious resources of our embedded PC)."
   ]
  },
  {
   "cell_type": "code",
   "execution_count": 27,
   "metadata": {},
   "outputs": [
    {
     "name": "stdout",
     "output_type": "stream",
     "text": [
      "Saved 41972_1587003952.xlsx.xlsx File to /snapshots Directory\n"
     ]
    }
   ],
   "source": [
    "motor_inboard.createSnapshotXLSX()"
   ]
  },
  {
   "cell_type": "markdown",
   "metadata": {},
   "source": [
    "### [Back to Top](#top)  "
   ]
  }
 ],
 "metadata": {
  "kernelspec": {
   "display_name": "Python 3",
   "language": "python",
   "name": "python3"
  },
  "language_info": {
   "codemirror_mode": {
    "name": "ipython",
    "version": 3
   },
   "file_extension": ".py",
   "mimetype": "text/x-python",
   "name": "python",
   "nbconvert_exporter": "python",
   "pygments_lexer": "ipython3",
   "version": "3.7.6"
  }
 },
 "nbformat": 4,
 "nbformat_minor": 4
}
